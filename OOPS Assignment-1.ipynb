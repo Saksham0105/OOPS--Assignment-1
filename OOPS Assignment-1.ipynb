{
 "cells": [
  {
   "cell_type": "markdown",
   "id": "05ec69ab",
   "metadata": {},
   "source": [
    "Q1. Explain Class and Object with respect to Object-Oriented Programming. Give a suitable example."
   ]
  },
  {
   "cell_type": "markdown",
   "id": "d82a99ab",
   "metadata": {},
   "source": [
    "Ans :-"
   ]
  },
  {
   "cell_type": "markdown",
   "id": "352276bb",
   "metadata": {},
   "source": [
    "* Class"
   ]
  },
  {
   "cell_type": "markdown",
   "id": "020fa594",
   "metadata": {},
   "source": [
    "A class is a blueprint or template that defines the structure and behavior of objects. It encapsulates the attributes (data) and methods (functions) that characterize a certain type of object. Think of a class as a mold that outlines how an object of that class should look and what it can do."
   ]
  },
  {
   "cell_type": "markdown",
   "id": "0b8bd481",
   "metadata": {},
   "source": [
    "* Object"
   ]
  },
  {
   "cell_type": "markdown",
   "id": "7089ae56",
   "metadata": {},
   "source": [
    "An object is an instance of a class. It is a concrete entity that is created based on the blueprint defined by a class. An object represents a specific instance of the class and contains the actual data and can perform the actions (methods) specified by the class."
   ]
  },
  {
   "cell_type": "code",
   "execution_count": 39,
   "id": "a9ea28ed",
   "metadata": {},
   "outputs": [
    {
     "name": "stdout",
     "output_type": "stream",
     "text": [
      "Saksham Jain\n",
      "Kushagra Jain\n",
      "Hi,I'm Saksham Jain and I'm 21 years old.\n",
      "Hi,I'm Kushagra Jain and I'm 17 years old.\n"
     ]
    }
   ],
   "source": [
    "class Student:\n",
    "    def __init__(self, first_name, last_name, age):\n",
    "        self.first_name = first_name\n",
    "        self.last_name = last_name\n",
    "        self.age = age\n",
    "    def student_introduction(self):\n",
    "         print(\"Hi,I'm {} {} and I'm {} years old.\".format(self.first_name,self.last_name,self.age))\n",
    "\n",
    "# Creating objects (instances) of the Person class\n",
    "student1 = Student(\"Saksham\", \"Jain\", 21)\n",
    "student2 = Student(\"Kushagra\", \"Jain\", 17)\n",
    "\n",
    "# Accessing object attributes\n",
    "print(student1.first_name, student1.last_name)  # Output: Saksham Jain\n",
    "print(student2.first_name, student2.last_name)  # Output: Kushagra Jain\n",
    "\n",
    "# Calling object methods\n",
    "student1.student_introduction()     # Output: Hi,I'm Saksham Jain and I'm 21 years old.\n",
    "student2.student_introduction()     # Output: Hi,I'm Kushagra Jain and I'm 17 years old."
   ]
  },
  {
   "cell_type": "markdown",
   "id": "e8510436",
   "metadata": {},
   "source": [
    "Q2. Name the four pillars of OOPs."
   ]
  },
  {
   "cell_type": "code",
   "execution_count": null,
   "id": "fecf0be4",
   "metadata": {},
   "outputs": [],
   "source": [
    "Ans :-"
   ]
  },
  {
   "cell_type": "markdown",
   "id": "ae3426d5",
   "metadata": {},
   "source": [
    "The four pillars of Object-Oriented Programming (OOP'S) are:"
   ]
  },
  {
   "cell_type": "markdown",
   "id": "660ccaab",
   "metadata": {},
   "source": [
    "* Encapsulation"
   ]
  },
  {
   "cell_type": "markdown",
   "id": "62612490",
   "metadata": {},
   "source": [
    "* Inheritance"
   ]
  },
  {
   "cell_type": "markdown",
   "id": "79663fdb",
   "metadata": {},
   "source": [
    "* Polymorphism"
   ]
  },
  {
   "cell_type": "markdown",
   "id": "501d8c77",
   "metadata": {},
   "source": [
    "* Abstraction"
   ]
  },
  {
   "cell_type": "markdown",
   "id": "0e4a9032",
   "metadata": {},
   "source": [
    "Q3. Explain why the __init__() function is used. Give a suitable example."
   ]
  },
  {
   "cell_type": "markdown",
   "id": "f7d41afd",
   "metadata": {},
   "source": [
    "Ans :-"
   ]
  },
  {
   "cell_type": "markdown",
   "id": "e87cac9f",
   "metadata": {},
   "source": [
    "In object-oriented programming, the __init__() function, also known as the constructor, is a special method that is automatically called when an object of a class is created. It is used to initialize the attributes of the object and perform any setup operations that need to be done when an object is instantiated."
   ]
  },
  {
   "cell_type": "markdown",
   "id": "0c17bee6",
   "metadata": {},
   "source": [
    "Here's why the __init__() function is used:"
   ]
  },
  {
   "cell_type": "markdown",
   "id": "4c2dfb87",
   "metadata": {},
   "source": [
    "* Attribute Initialization:"
   ]
  },
  {
   "cell_type": "markdown",
   "id": "78572e2b",
   "metadata": {},
   "source": [
    "The primary purpose of the __init__() function is to set initial values to the attributes of an object. When an object is created, it might need to have specific attributes with certain values to represent its state accurately."
   ]
  },
  {
   "cell_type": "markdown",
   "id": "a2dd04a1",
   "metadata": {},
   "source": [
    "* Object Setup:"
   ]
  },
  {
   "cell_type": "markdown",
   "id": "963c7361",
   "metadata": {},
   "source": [
    "The __init__() function provides an opportunity to perform any setup operations or calculations that are required before the object is ready for use. This might include initializing internal variables, opening connections, setting default values, etc."
   ]
  },
  {
   "cell_type": "markdown",
   "id": "b916a55a",
   "metadata": {},
   "source": [
    "* Customization:"
   ]
  },
  {
   "cell_type": "markdown",
   "id": "eae734ff",
   "metadata": {},
   "source": [
    "The __init__() function can take parameters that allow users to customize the initial state of the object. This makes the class more versatile and adaptable to different use cases."
   ]
  },
  {
   "cell_type": "markdown",
   "id": "18ee5656",
   "metadata": {},
   "source": [
    "Example :-  Here's an example using a Car class to illustrate the use of the __init__() function:"
   ]
  },
  {
   "cell_type": "code",
   "execution_count": 50,
   "id": "0bae1bf3",
   "metadata": {},
   "outputs": [
    {
     "name": "stdout",
     "output_type": "stream",
     "text": [
      "--------Details for 1st Account--------\n",
      "Deposited 1000. New balance: 1000\n",
      "Withdrawal 500. New balance: 500\n",
      "Account balance for Saksham: 500\n",
      "--------Details for 2nd Account--------\n",
      "Deposited 200. New balance: 2200\n",
      "Insufficient funds.\n",
      "Account balance for Kushagra: 2200\n"
     ]
    }
   ],
   "source": [
    "class BankAccount:\n",
    "    def __init__(self, account_number, account_holder, balance=0):\n",
    "        self.account_number = account_number\n",
    "        self.account_holder = account_holder\n",
    "        self.balance = balance\n",
    "    \n",
    "    def deposit(self, amount):\n",
    "        self.balance += amount\n",
    "        print(\"Deposited {}. New balance: {}\".format(amount,self.balance))\n",
    "    \n",
    "    def withdraw(self, amount):\n",
    "        if amount <= self.balance:\n",
    "            self.balance -= amount\n",
    "            print(\"Withdrawal {}. New balance: {}\".format(amount,self.balance))\n",
    "        else:\n",
    "            print(\"Insufficient funds.\")\n",
    "\n",
    "    def display_balance(self):\n",
    "        print(\"Account balance for {}: {}\".format(self.account_holder,self.balance))\n",
    "\n",
    "# Creating objects (instances) of the BankAccount class\n",
    "account1 = BankAccount(\"2134652467354\", \"Saksham\")\n",
    "account2 = BankAccount(\"1864218671984\", \"Kushagra\", 2000)\n",
    "\n",
    "# Performing operations on the bank accounts\n",
    "print(\"--------Details for 1st Account--------\")\n",
    "account1.deposit(1000)\n",
    "account1.withdraw(500)\n",
    "account1.display_balance()\n",
    "\n",
    "print(\"--------Details for 2nd Account--------\")\n",
    "\n",
    "account2.deposit(200)\n",
    "account2.withdraw(3000)\n",
    "account2.display_balance()"
   ]
  },
  {
   "cell_type": "markdown",
   "id": "2522c7a9",
   "metadata": {},
   "source": [
    "Q4. Why self is used in OOPs?"
   ]
  },
  {
   "cell_type": "markdown",
   "id": "00c9bb05",
   "metadata": {},
   "source": [
    "Ans :- "
   ]
  },
  {
   "cell_type": "markdown",
   "id": "2682b849",
   "metadata": {},
   "source": [
    "In object-oriented programming (OOP), the 'self' keyword is used as a reference to the instance of the class that is currently being manipulated or accessed. It allows methods within a class to access and modify the attributes and methods of that instance. The use of 'self' is a fundamental concept that helps maintain the distinction between instance-specific data and class-level data."
   ]
  },
  {
   "cell_type": "markdown",
   "id": "99b748f6",
   "metadata": {},
   "source": [
    "Here's why 'self' is used in OOP:"
   ]
  },
  {
   "cell_type": "markdown",
   "id": "d00054d0",
   "metadata": {},
   "source": [
    "* Instance Context:"
   ]
  },
  {
   "cell_type": "markdown",
   "id": "a6a756d8",
   "metadata": {},
   "source": [
    "In a class, you can create multiple instances (objects), each with its own set of attributes and behaviors. When you call a method on an instance, 'self' refers to that specific instance. This allows the method to operate on the data associated with that instance."
   ]
  },
  {
   "cell_type": "markdown",
   "id": "cb2b8f9c",
   "metadata": {},
   "source": [
    "* Attribute Access:"
   ]
  },
  {
   "cell_type": "markdown",
   "id": "08f9347f",
   "metadata": {},
   "source": [
    "Within a method of a class, you use 'self' to access instance attributes. This helps you distinguish between instance attributes and local variables within the method. For example, 'self.attribute_name' refers to an attribute of the instance, while attribute_name (without 'self') might refer to a local variable."
   ]
  },
  {
   "cell_type": "markdown",
   "id": "d9f598c0",
   "metadata": {},
   "source": [
    "* Method Invocation:"
   ]
  },
  {
   "cell_type": "markdown",
   "id": "336e361f",
   "metadata": {},
   "source": [
    "When you call a method on an instance, you don't need to pass the instance explicitly as an argument. The 'self' parameter in the method definition automatically receives a reference to the calling instance. This makes method calls on instances more intuitive and concise."
   ]
  },
  {
   "cell_type": "markdown",
   "id": "3a9c524f",
   "metadata": {},
   "source": [
    "* Modifying Attributes:"
   ]
  },
  {
   "cell_type": "markdown",
   "id": "c19c3671",
   "metadata": {},
   "source": [
    "'self' is crucial for modifying instance attributes within methods. Without 'self', the method might operate on a local variable with the same name, which would not affect the instance's attributes. Using 'self.attribute_name' ensures you're modifying the instance's data."
   ]
  },
  {
   "cell_type": "markdown",
   "id": "eef5b2b9",
   "metadata": {},
   "source": [
    "Example:- Here's a simple example to illustrate the use of self:"
   ]
  },
  {
   "cell_type": "code",
   "execution_count": 52,
   "id": "276b019f",
   "metadata": {},
   "outputs": [
    {
     "name": "stdout",
     "output_type": "stream",
     "text": [
      "Saksham is studying Math.\n",
      "Kushagra is taking an exam in Science.\n",
      "Name: Saksham\n",
      "Age: 18\n",
      "Grade: 12th\n",
      "------------\n",
      "Kushagra is studying History.\n",
      "Saksham is taking an exam in English.\n",
      "Name: Kushagra\n",
      "Age: 17\n",
      "Grade: 11th\n"
     ]
    }
   ],
   "source": [
    "class Student:\n",
    "    def __init__(self, name, age, grade):\n",
    "        self.name = name\n",
    "        self.age = age\n",
    "        self.grade = grade\n",
    "    \n",
    "    def study(self, subject):\n",
    "        print(\"{} is studying {}.\".format(self.name,subject))\n",
    "    \n",
    "    def take_exam(self, subject):\n",
    "        print(\"{} is taking an exam in {}.\".format(self.name,subject))\n",
    "    \n",
    "    def display_info(self):\n",
    "        print(\"Name: {}\".format(self.name))\n",
    "        print(\"Age: {}\".format(self.age))\n",
    "        print(\"Grade: {}\".format(self.grade))\n",
    "\n",
    "# Creating objects (instances) of the Student class\n",
    "student1 = Student(\"Saksham\", 18, \"12th\")\n",
    "student2 = Student(\"Kushagra\", 17, \"11th\")\n",
    "\n",
    "# Performing actions and displaying information about students\n",
    "student1.study(\"Math\")\n",
    "student2.take_exam(\"Science\")\n",
    "student1.display_info()\n",
    "\n",
    "print(\"------------\")\n",
    "\n",
    "student2.study(\"History\")\n",
    "student1.take_exam(\"English\")\n",
    "student2.display_info()"
   ]
  },
  {
   "cell_type": "markdown",
   "id": "1cec23f5",
   "metadata": {},
   "source": [
    "Q5. What is inheritance? Give an example for each type of inheritance."
   ]
  },
  {
   "cell_type": "markdown",
   "id": "8379936b",
   "metadata": {},
   "source": [
    "Ans :- "
   ]
  },
  {
   "cell_type": "markdown",
   "id": "4e51a224",
   "metadata": {},
   "source": [
    "Inheritance is a fundamental concept in object-oriented programming (OOP) where a new class (subclass or derived class) is created by inheriting attributes and behaviors (methods) from an existing class (superclass or base class). Inheritance allows for code reuse, extensibility, and the creation of a hierarchy of related classes."
   ]
  },
  {
   "cell_type": "markdown",
   "id": "cc53cf92",
   "metadata": {},
   "source": [
    "There are different types of inheritance:"
   ]
  },
  {
   "cell_type": "markdown",
   "id": "b85804fa",
   "metadata": {},
   "source": [
    "* Single Inheritance:"
   ]
  },
  {
   "cell_type": "markdown",
   "id": "479d27a0",
   "metadata": {},
   "source": [
    "Single inheritance involves a subclass inheriting from a single superclass. In this type of inheritance, the subclass can inherit all the attributes and methods of the superclass."
   ]
  },
  {
   "cell_type": "code",
   "execution_count": 73,
   "id": "a38da052",
   "metadata": {},
   "outputs": [],
   "source": [
    "class Student:\n",
    "    def __init__(self, name, age):\n",
    "        self.name = name\n",
    "        self.age = age\n",
    "    \n",
    "    def introduce(self):\n",
    "        print(\"Hi, I'm {} and I'm {} years old.\".format(self.name,self.age))\n",
    "\n",
    "class Details(Student):\n",
    "    def __init__(self, name, age, student_id):\n",
    "        super().__init__(name, age)\n",
    "        self.student_id = student_id\n",
    "    \n",
    "    def display_student_info(self):\n",
    "        print(\"Student ID: {}\".format(self.student_id))"
   ]
  },
  {
   "cell_type": "code",
   "execution_count": 74,
   "id": "abbd6048",
   "metadata": {},
   "outputs": [],
   "source": [
    "# Creating a Details object\n",
    "student = Details(\"Saksham\", 21, \"120003585\")"
   ]
  },
  {
   "cell_type": "code",
   "execution_count": 75,
   "id": "6c790d4f",
   "metadata": {},
   "outputs": [
    {
     "name": "stdout",
     "output_type": "stream",
     "text": [
      "Hi, I'm Saksham and I'm 21 years old.\n",
      "Student ID: 120003585\n"
     ]
    }
   ],
   "source": [
    "# Accessing inherited methods and subclass method\n",
    "student.introduce()\n",
    "student.display_student_info()"
   ]
  },
  {
   "cell_type": "markdown",
   "id": "df885370",
   "metadata": {},
   "source": [
    "* Multiple Inheritance:"
   ]
  },
  {
   "cell_type": "markdown",
   "id": "7a484fc3",
   "metadata": {},
   "source": [
    "Multiple inheritance occurs when a subclass inherits from more than one superclass. The subclass can inherit attributes and methods from multiple superclasses."
   ]
  },
  {
   "cell_type": "code",
   "execution_count": 76,
   "id": "cbfd2508",
   "metadata": {},
   "outputs": [],
   "source": [
    "class class1:\n",
    "    def class1_test(self):\n",
    "        return \"this is my class 1st\"\n",
    "class class2:\n",
    "    def class2_test(self):\n",
    "        return \"this is my class 2nd\"\n",
    "\n",
    "class class3(class1, class2):\n",
    "    pass"
   ]
  },
  {
   "cell_type": "code",
   "execution_count": 77,
   "id": "1a71679a",
   "metadata": {},
   "outputs": [],
   "source": [
    "obj_class3 = class3()"
   ]
  },
  {
   "cell_type": "code",
   "execution_count": 78,
   "id": "a5910dcf",
   "metadata": {},
   "outputs": [
    {
     "data": {
      "text/plain": [
       "'this is my class 1st'"
      ]
     },
     "execution_count": 78,
     "metadata": {},
     "output_type": "execute_result"
    }
   ],
   "source": [
    "obj_class3.class1_test()"
   ]
  },
  {
   "cell_type": "code",
   "execution_count": 79,
   "id": "1e547e0d",
   "metadata": {},
   "outputs": [
    {
     "data": {
      "text/plain": [
       "'this is my class 2nd'"
      ]
     },
     "execution_count": 79,
     "metadata": {},
     "output_type": "execute_result"
    }
   ],
   "source": [
    "obj_class3.class2_test()"
   ]
  },
  {
   "cell_type": "markdown",
   "id": "4cec1711",
   "metadata": {},
   "source": [
    "* Multilevel Inheritance:"
   ]
  },
  {
   "cell_type": "markdown",
   "id": "f640add5",
   "metadata": {},
   "source": [
    "Multilevel inheritance involves a chain of inheritance where a subclass inherits from another subclass, forming a hierarchy."
   ]
  },
  {
   "cell_type": "code",
   "execution_count": 80,
   "id": "375c7388",
   "metadata": {},
   "outputs": [],
   "source": [
    "class class1 :\n",
    "    def test_class1(self):\n",
    "        return \"This is my class1\"\n",
    "class class2(class1) :\n",
    "    def test_class2(self):\n",
    "        return \"this is my class2\"\n",
    "class class3(class2):\n",
    "    def test_class3(self):\n",
    "        return \" This my class3\""
   ]
  },
  {
   "cell_type": "code",
   "execution_count": 81,
   "id": "aaf8642b",
   "metadata": {},
   "outputs": [],
   "source": [
    "obj_class3 = class3()"
   ]
  },
  {
   "cell_type": "code",
   "execution_count": 82,
   "id": "c1c37760",
   "metadata": {},
   "outputs": [
    {
     "data": {
      "text/plain": [
       "'This is my class1'"
      ]
     },
     "execution_count": 82,
     "metadata": {},
     "output_type": "execute_result"
    }
   ],
   "source": [
    "obj_class3.test_class1()"
   ]
  },
  {
   "cell_type": "code",
   "execution_count": 83,
   "id": "76167eb1",
   "metadata": {},
   "outputs": [
    {
     "data": {
      "text/plain": [
       "'this is my class2'"
      ]
     },
     "execution_count": 83,
     "metadata": {},
     "output_type": "execute_result"
    }
   ],
   "source": [
    "obj_class3.test_class2()"
   ]
  },
  {
   "cell_type": "code",
   "execution_count": 84,
   "id": "36fd4307",
   "metadata": {},
   "outputs": [
    {
     "data": {
      "text/plain": [
       "' This my class3'"
      ]
     },
     "execution_count": 84,
     "metadata": {},
     "output_type": "execute_result"
    }
   ],
   "source": [
    "obj_class3.test_class3()"
   ]
  },
  {
   "cell_type": "markdown",
   "id": "7d1b3d7f",
   "metadata": {},
   "source": [
    "* Hierarchical Inheritance:"
   ]
  },
  {
   "cell_type": "markdown",
   "id": "77ebd486",
   "metadata": {},
   "source": [
    "Hierarchical inheritance occurs when multiple subclasses inherit from a single superclass, creating a tree-like structure."
   ]
  },
  {
   "cell_type": "code",
   "execution_count": 93,
   "id": "c9c722ae",
   "metadata": {},
   "outputs": [],
   "source": [
    "class Animal:\n",
    "    def __init__(self, species):\n",
    "        self.species = species\n",
    "    \n",
    "    def make_sound(self):\n",
    "        pass\n",
    "\n",
    "class Bird(Animal):\n",
    "    def __init__(self, species, wingspan):\n",
    "        super().__init__(species)\n",
    "        self.wingspan = wingspan\n",
    "    \n",
    "    def make_sound(self):\n",
    "        return \"Chirp\"\n",
    "\n",
    "class Mammal(Animal):\n",
    "    def __init__(self, species, num_legs):\n",
    "        super().__init__(species)\n",
    "        self.num_legs = num_legs\n",
    "    \n",
    "    def make_sound(self):\n",
    "        return \"Growl\""
   ]
  },
  {
   "cell_type": "code",
   "execution_count": 94,
   "id": "57fb9261",
   "metadata": {},
   "outputs": [],
   "source": [
    "# Creating objects of Bird and Mammal\n",
    "bird = Bird(\"Sparrow\" , 15)\n",
    "mammal = Mammal(\"Lion\" , 4)"
   ]
  },
  {
   "cell_type": "code",
   "execution_count": 95,
   "id": "9ad38cf4",
   "metadata": {},
   "outputs": [
    {
     "name": "stdout",
     "output_type": "stream",
     "text": [
      "Sparrow makes a sound: Chirp\n",
      "Lion makes a sound: Growl\n",
      "Sparrow has a wingspan of 15 inches.\n",
      "Lion has 4 legs.\n"
     ]
    }
   ],
   "source": [
    "# Accessing methods of Bird and Mammal\n",
    "print(\"{} makes a sound: {}\".format(bird.species , bird.make_sound()))\n",
    "print(\"{} makes a sound: {}\".format(mammal.species , mammal.make_sound()))\n",
    "print(\"{} has a wingspan of {} inches.\".format(bird.species , bird.wingspan))\n",
    "print(\"{} has {} legs.\".format(mammal.species , mammal.num_legs))"
   ]
  },
  {
   "cell_type": "markdown",
   "id": "291b97f8",
   "metadata": {},
   "source": [
    "* Hybrid Inheritance:"
   ]
  },
  {
   "cell_type": "markdown",
   "id": "e487f0fd",
   "metadata": {},
   "source": [
    "Hybrid inheritance combines different types of inheritance in a single program. It may involve a mixture of single, multiple, multilevel, or hierarchical inheritance."
   ]
  },
  {
   "cell_type": "code",
   "execution_count": 13,
   "id": "e70be7d6",
   "metadata": {},
   "outputs": [],
   "source": [
    "class PC:\n",
    "    def fun1(self):\n",
    "        print(\"This is PC class\")\n",
    "\n",
    "class Laptop(PC):\n",
    "    def fun2(self):\n",
    "        print(\"This is Laptop class inheriting PC class\")\n",
    "\n",
    "class Mouse(Laptop):\n",
    "    def fun3(self):\n",
    "        print(\"This is Mouse class inheriting Laptop class\")\n",
    "\n",
    "class Student(Mouse, Laptop):\n",
    "    def fun4(self):\n",
    "        print(\"This is Student class inheriting PC and Laptop\")"
   ]
  },
  {
   "cell_type": "code",
   "execution_count": 14,
   "id": "7c1da027",
   "metadata": {},
   "outputs": [],
   "source": [
    "obj = Student()"
   ]
  },
  {
   "cell_type": "code",
   "execution_count": 25,
   "id": "3a8a5b81",
   "metadata": {},
   "outputs": [
    {
     "name": "stdout",
     "output_type": "stream",
     "text": [
      "This is PC class\n"
     ]
    }
   ],
   "source": [
    "obj.fun1()"
   ]
  },
  {
   "cell_type": "code",
   "execution_count": 24,
   "id": "5d264369",
   "metadata": {},
   "outputs": [
    {
     "name": "stdout",
     "output_type": "stream",
     "text": [
      "This is Laptop class inheriting PC class\n"
     ]
    }
   ],
   "source": [
    "obj.fun2()"
   ]
  },
  {
   "cell_type": "code",
   "execution_count": 23,
   "id": "4596a31f",
   "metadata": {},
   "outputs": [
    {
     "name": "stdout",
     "output_type": "stream",
     "text": [
      "This is Mouse class inheriting Laptop class\n"
     ]
    }
   ],
   "source": [
    "obj.fun3()"
   ]
  },
  {
   "cell_type": "code",
   "execution_count": 22,
   "id": "b52e0b93",
   "metadata": {},
   "outputs": [
    {
     "name": "stdout",
     "output_type": "stream",
     "text": [
      "This is Student class inheriting PC and Laptop\n"
     ]
    }
   ],
   "source": [
    "obj.fun4()"
   ]
  },
  {
   "cell_type": "code",
   "execution_count": 17,
   "id": "33f5e647",
   "metadata": {},
   "outputs": [],
   "source": [
    "obj1 = Mouse()"
   ]
  },
  {
   "cell_type": "code",
   "execution_count": 18,
   "id": "438d7abf",
   "metadata": {},
   "outputs": [
    {
     "name": "stdout",
     "output_type": "stream",
     "text": [
      "This is PC class\n"
     ]
    }
   ],
   "source": [
    "obj1.fun1()"
   ]
  },
  {
   "cell_type": "code",
   "execution_count": 19,
   "id": "d3ffaa4f",
   "metadata": {},
   "outputs": [
    {
     "name": "stdout",
     "output_type": "stream",
     "text": [
      "This is Laptop class inheriting PC class\n"
     ]
    }
   ],
   "source": [
    "obj1.fun2()"
   ]
  },
  {
   "cell_type": "code",
   "execution_count": 20,
   "id": "71c45521",
   "metadata": {},
   "outputs": [
    {
     "name": "stdout",
     "output_type": "stream",
     "text": [
      "This is Mouse class inheriting Laptop class\n"
     ]
    }
   ],
   "source": [
    "obj1.fun3()"
   ]
  }
 ],
 "metadata": {
  "kernelspec": {
   "display_name": "Python 3 (ipykernel)",
   "language": "python",
   "name": "python3"
  },
  "language_info": {
   "codemirror_mode": {
    "name": "ipython",
    "version": 3
   },
   "file_extension": ".py",
   "mimetype": "text/x-python",
   "name": "python",
   "nbconvert_exporter": "python",
   "pygments_lexer": "ipython3",
   "version": "3.11.3"
  }
 },
 "nbformat": 4,
 "nbformat_minor": 5
}
